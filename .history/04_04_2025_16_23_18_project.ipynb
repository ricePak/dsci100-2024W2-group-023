{
 "cells": [
  {
   "cell_type": "code",
   "execution_count": null,
   "id": "74cb0b32-3a8c-4464-934b-a6395ae64366",
   "metadata": {},
   "outputs": [],
   "source": [
    "library(tidyverse)\n",
    "set.seed(123)\n",
    "\n",
    "players_url <- \"https://raw.githubusercontent.com/jw0220/individual_project/refs/heads/main/players.csv\"\n",
    "sessions_url <- \"https://raw.githubusercontent.com/jw0220/individual_project/refs/heads/main/sessions.csv\""
   ]
  },
  {
   "cell_type": "code",
   "execution_count": null,
   "id": "34014d7c-b7a5-4180-be69-040bfb1a444c",
   "metadata": {},
   "outputs": [],
   "source": [
    "players <- read_csv(players_url)\n",
    "head(players)"
   ]
  },
  {
   "cell_type": "code",
   "execution_count": null,
   "id": "4901c455-0d25-4173-acb5-53af81b75c49",
   "metadata": {},
   "outputs": [],
   "source": [
    "sessions <- read_csv(sessions_url)\n",
    "head(sessions)"
   ]
  },
  {
   "cell_type": "markdown",
   "id": "18496442-139c-4e2b-b033-0819fc565a77",
   "metadata": {},
   "source": [
    "**1) Sessions Dataset**\n",
    "- 5 variables, 1535 observations\n",
    "\n",
    "Variables:\n",
    "- hashedEmail: Character, anonymized email address.\n",
    "- start_time: Character, event start time in DD/MM/YYYY HH:MM format.\n",
    "- end_time: Character, event end time in DD/MM/YYYY HH:MM format.\n",
    "- original_start_time: Double, start time as Unix timestamp (seconds since 01/01/1970).\n",
    "- original_end_time: Double, end time as Unix timestamp.\n",
    "\n",
    "Data Issues:\n",
    "- start_time and end_time are character strings, inefficient for time calculations.\n",
    "\n",
    "\n"
   ]
  },
  {
   "cell_type": "markdown",
   "id": "0a6beab1-9cb1-49bd-adbe-18545c888537",
   "metadata": {},
   "source": [
    "**2) Players Dataset**\n",
    "- 7 variables, 196 observations\n",
    "\n",
    "Variables:\n",
    "- experience: Character, user experience level.\n",
    "- subscribe: Logical, indicates if the user has an active subscription (TRUE/FALSE).\n",
    "- hashedEmail: Character, anonymized user email.\n",
    "- played_hours: Double, total hours played by the user.\n",
    "- name: Character, user's first name.\n",
    "- gender: Character, user's gender.\n",
    "- Age: Double, user's age in years.\n",
    "\n",
    "Data Issue:\n",
    "Age should be stored as an integer, not a double, as it is always a whole number.\n"
   ]
  },
  {
   "cell_type": "markdown",
   "id": "184708ee-303c-4095-9649-7771b83420a8",
   "metadata": {},
   "source": [
    "**Questions**\n",
    "\n",
    "Broad Question 1: What player characteristics and behaviours are most predictive of subscribing to a game-related newsletter, and how do these features differ between various player types?\n",
    "\n",
    "Specific Question: Can the user's amount of playtime and age predict whether they are subscribed to the game-related newsletter?"
   ]
  },
  {
   "cell_type": "markdown",
   "id": "ace8e007-b8d3-4618-9617-85543785d5bd",
   "metadata": {},
   "source": [
    "**Exploratory Data Analysis and Visualization**"
   ]
  },
  {
   "cell_type": "code",
   "execution_count": null,
   "id": "1828e636-2ae8-4b23-944e-6348dd9a1f83",
   "metadata": {},
   "outputs": [],
   "source": [
    "# tidy format\n",
    "players_tidy <- players |>\n",
    "  mutate(\n",
    "    Age = as.integer(Age),  \n",
    "    played_hours = as.numeric(played_hours) \n",
    "  )\n",
    "\n",
    "# Compute mean values for quantitative variables\n",
    "mean_values <- players_tidy |>\n",
    "  summarise(\n",
    "    mean_played_hours = mean(played_hours, na.rm = TRUE),\n",
    "    mean_Age = mean(Age, na.rm = TRUE)\n",
    "  )\n",
    "\n",
    "mean_values"
   ]
  },
  {
   "cell_type": "code",
   "execution_count": null,
   "id": "c365faa9-ffc4-457e-b609-ac4bc8f8f86f",
   "metadata": {},
   "outputs": [],
   "source": [
    "library(ggplot2)\n",
    "library(dplyr)\n",
    "\n",
    "# 1. Histogram of Played Hours  \n",
    "played_hours_distribution <- ggplot(players, aes(x = played_hours)) +\n",
    "                                  geom_histogram(binwidth = 5, fill = \"steelblue\", color = \"black\", alpha = 0.7) +\n",
    "                                  labs(title = \"Distribution of Played Hours\", x = \"Played Hours\", y = \"Number of Users\") \n",
    "played_hours_distribution\n",
    "\n",
    "# 2. Boxplot of Played Hours by Subscription Status  \n",
    "played_hours_subscribe <- ggplot(players, aes(x = as.factor(subscribe), y = played_hours, fill = as.factor(subscribe))) +\n",
    "                          geom_boxplot() +\n",
    "                          labs(title = \"Played Hours by Subscription Status\", x = \"Subscribed\", y = \"Played Hours\") +\n",
    "                          scale_fill_manual(values = c(\"FALSE\" = \"red\", \"TRUE\" = \"green\"), name = \"Subscribed\") \n",
    "played_hours_subscribe\n",
    "\n",
    "# 3. Scatter Plot with Subscription  \n",
    "subscription_scattered <- ggplot(players, aes(x = played_hours, y = subscribe)) +\n",
    "                          geom_jitter(aes(color = as.factor(subscribe)), height = 0.2, alpha = 0.7) +\n",
    "                          labs(title = \"Scatter Plot of Played Hours vs Subscription\", x = \"Played Hours\", y = \"Subscription Status\") +\n",
    "                          scale_color_manual(values = c(\"FALSE\" = \"red\", \"TRUE\" = \"green\"), name = \"Subscribed\") \n",
    "subscription_scattered"
   ]
  },
  {
   "cell_type": "markdown",
   "id": "3ba8e67b-36cc-4ea0-bd1e-296545d7f5dd",
   "metadata": {},
   "source": [
    "\n",
    "- Histogram of Played Hours\n",
    "    - The histogram shows a highly right-skewed distribution, meaning most users have very low played hours, while a few have significantly high values.\n",
    "\n",
    "- Boxplot of Played Hours by Subscription Status\n",
    "    - Users who are subscribed have more hours played.\n",
    "    - There is more of a spread of hours played for users who are subscribed to the newsletter.\n",
    "    - Outliers in played_hours could indicate highly engaged players who might bias the model.\n",
    "      \n",
    "- Scatter Plot (Jittered) with Subscription\n",
    "    - For both subscribed and unsubscribed users, they both mostly have the same amount of hours played as there is a large concentration of points around the 0-10 hours range. However, for users who are subscribed, there are some big outliers with hours played past 150 hours. \n"
   ]
  },
  {
   "cell_type": "markdown",
   "id": "b5db416b-b044-44cb-8b35-c3e68ba6f8aa",
   "metadata": {},
   "source": [
    "**Methods and Plan**\n",
    "\n",
    "predition model: K-nearest neighbours \n",
    "\n",
    "Why is this method appropriate?\n",
    "- KNN does not assume a specific distribution for the data, making it flexible for various relationships.\n",
    "- KNN can capture non-linear relationships between played_hours and subscribe.\n",
    "\n",
    "Assumptions Required for KNN\n",
    "- Choosing the right k: If k is too small, the model can be overly sensitive to noise. If k is too large, it may over-smooth the decision boundary. We can tune k using cross-validation.\n",
    "- Balanced classes: If the dataset has more non-subscribed users than subscribed ones, class imbalance could affect accuracy.\n",
    "\n",
    "Limitations of KNN\n",
    "- Computationally expensive: KNN requires storing the entire dataset and computing distances for every prediction. If the dataset is large, this can be slow.\n",
    "- If too many features are used, distance calculations become less effective. However, since we are using only played_hours, this is less of a concern.\n",
    "\n",
    "Model Selection and Evaluation Strategy\n",
    "- Normalize played_hours to mean = 0 and standard deviation = 1\n",
    "- Split the data into training and testing sets.\n",
    "- Choose the best k using cross-validation.\n",
    "- Train the KNN classifier and evaluate its performance.\n"
   ]
  },
  {
   "cell_type": "code",
   "execution_count": null,
   "id": "26ec844e-6eda-42cb-9d56-949a2a018cb9",
   "metadata": {},
   "outputs": [],
   "source": []
  }
 ],
 "metadata": {
  "kernelspec": {
   "display_name": "R",
   "language": "R",
   "name": "ir"
  },
  "language_info": {
   "codemirror_mode": "r",
   "file_extension": ".r",
   "mimetype": "text/x-r-source",
   "name": "R",
   "pygments_lexer": "r",
   "version": "4.3.3"
  }
 },
 "nbformat": 4,
 "nbformat_minor": 5
}
